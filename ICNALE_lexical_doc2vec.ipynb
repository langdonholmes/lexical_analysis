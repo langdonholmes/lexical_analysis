{
 "cells": [
  {
   "cell_type": "markdown",
   "metadata": {
    "id": "9xB-sKHtI1Zz"
   },
   "source": [
    "# Lexical Proficiency with a Doc2Vec Model\n",
    "\n",
    "We want to predict the lexical proficiency of the author of a text.\n",
    "\n",
    "We want a vector representation of each document."
   ]
  },
  {
   "cell_type": "code",
   "execution_count": 1,
   "metadata": {
    "colab": {
     "base_uri": "https://localhost:8080/"
    },
    "id": "rioJCiPY0l_Z",
    "outputId": "b0733d5e-2dd1-481b-9b5c-11683ac80e76"
   },
   "outputs": [],
   "source": [
    "# Files\n",
    "import os\n",
    "\n",
    "# Feedback\n",
    "from tqdm import tqdm\n",
    "import time\n",
    "import seaborn as sns\n",
    "\n",
    "# Digits and Strings\n",
    "import numpy as np\n",
    "import pandas as pd\n",
    "\n",
    "# Utilities\n",
    "from itertools import product\n",
    "\n",
    "# Learning\n",
    "import gensim\n",
    "from sklearn import linear_model\n",
    "from sklearn.model_selection import train_test_split, KFold\n",
    "\n",
    "DATA_DIR = 'data/'"
   ]
  },
  {
   "cell_type": "markdown",
   "metadata": {
    "id": "1O4ghhsuPxM4"
   },
   "source": [
    "Read in train and validation dataframes."
   ]
  },
  {
   "cell_type": "code",
   "execution_count": 2,
   "metadata": {
    "id": "fM49quc2DGmV"
   },
   "outputs": [],
   "source": [
    "both_prompts_but_no_test = DATA_DIR + 'all_train.csv'\n",
    "test_smk_path = DATA_DIR + 'smk_test.csv'\n",
    "\n",
    "train, valid = train_test_split(pd.read_csv(both_prompts_but_no_test),\n",
    "                                test_size=.2,\n",
    "                                random_state=42)\n",
    "test = pd.read_csv(test_smk_path)"
   ]
  },
  {
   "cell_type": "markdown",
   "metadata": {},
   "source": [
    "Let's choose NLTK for a simple, widely used English tokenizer."
   ]
  },
  {
   "cell_type": "code",
   "execution_count": 3,
   "metadata": {
    "id": "IOLoNa0L0DqU"
   },
   "outputs": [],
   "source": [
    "# Statistical NLP\n",
    "import nltk\n",
    "# nltk.download('punkt')\n",
    "from nltk import word_tokenize\n",
    "\n",
    "for df in [train, valid, test]:\n",
    "    df['tokenized'] = df['text'].map(word_tokenize)"
   ]
  },
  {
   "cell_type": "markdown",
   "metadata": {},
   "source": [
    "Gensim is much, much more efficient when reading from a file as compared to an in-memory iterable. See the 3.6 update: https://github.com/RaRe-Technologies/gensim/releases/tag/3.6.0"
   ]
  },
  {
   "cell_type": "code",
   "execution_count": 4,
   "metadata": {
    "id": "IOLoNa0L0DqU"
   },
   "outputs": [],
   "source": [
    "from multiprocessing import cpu_count\n",
    "from gensim.utils import save_as_line_sentence\n",
    "\n",
    "CORPUS_FILE = 'bin/test.txt'\n",
    "NUM_CORES = cpu_count()\n",
    "\n",
    "save_as_line_sentence(train['tokenized'], CORPUS_FILE)"
   ]
  },
  {
   "cell_type": "code",
   "execution_count": 5,
   "metadata": {
    "id": "IOLoNa0L0DqU"
   },
   "outputs": [],
   "source": [
    "def build_model(**kwargs):\n",
    "    model = gensim.models.doc2vec.Doc2Vec(corpus_file=CORPUS_FILE,\n",
    "                                          workers=NUM_CORES,\n",
    "                                          **kwargs)\n",
    "    return model"
   ]
  },
  {
   "cell_type": "markdown",
   "metadata": {
    "id": "qHwFeXFfQHDu"
   },
   "source": [
    "Gensim's KeyedVectors class is handy, but we need a numpy array to play nice with Pandas and SKlearn."
   ]
  },
  {
   "cell_type": "code",
   "execution_count": 6,
   "metadata": {
    "id": "SdBPE9HpJJAu"
   },
   "outputs": [],
   "source": [
    "def run_tests(model, other):\n",
    "    X_train = np.array([model.dv[i] for i in range(len(model.dv))])\n",
    "    X_other = np.array([(model.infer_vector(doc)) for doc in other['tokenized']])\n",
    "    y_train = train['VST']\n",
    "    y_other = other['VST']\n",
    "\n",
    "    linear = linear_model.LinearRegression()\n",
    "    linear.fit(X_train, y_train)\n",
    "    return linear.score(X_other, y_other) # R-squared"
   ]
  },
  {
   "cell_type": "markdown",
   "metadata": {
    "id": "0VxJP9g7O7L7"
   },
   "source": [
    "This is a DIY implementation of an exhaustive grid search. Every combination of parameters (in the grid) is tested (exhaustively). We won't know whether these differences are significant, but this should provide us with enough information to parameterize our model."
   ]
  },
  {
   "cell_type": "markdown",
   "metadata": {
    "id": "70AlaDOZP47b"
   },
   "source": [
    "Train doc2vec model with vector length `vector_size` over `epochs` epochs. Words must appears at least `min_count` times in the corpus to be considered."
   ]
  },
  {
   "cell_type": "code",
   "execution_count": null,
   "metadata": {
    "colab": {
     "background_save": true,
     "base_uri": "https://localhost:8080/"
    },
    "id": "eIH2_x7zmN6T",
    "outputId": "83b76662-6cb2-43f4-9301-f5569dd23909"
   },
   "outputs": [
    {
     "name": "stdout",
     "output_type": "stream",
     "text": [
      "vector_size: 50, epochs: 50 --> R-squared: 0.286\n",
      "Time elapsed: 5 seconds\n",
      "vector_size: 50, epochs: 100 --> R-squared: 0.285\n",
      "Time elapsed: 10 seconds\n",
      "vector_size: 50, epochs: 200 --> R-squared: 0.295\n",
      "Time elapsed: 19 seconds\n",
      "vector_size: 50, epochs: 400 --> R-squared: 0.294\n",
      "Time elapsed: 38 seconds\n",
      "vector_size: 50, epochs: 600 --> R-squared: 0.294\n",
      "Time elapsed: 56 seconds\n",
      "vector_size: 50, epochs: 800 --> R-squared: 0.300\n",
      "Time elapsed: 75 seconds\n",
      "vector_size: 50, epochs: 1000 --> R-squared: 0.306\n",
      "Time elapsed: 94 seconds\n",
      "vector_size: 50, epochs: 1200 --> R-squared: 0.304\n",
      "Time elapsed: 112 seconds\n",
      "vector_size: 100, epochs: 50 --> R-squared: 0.300\n",
      "Time elapsed: 6 seconds\n",
      "vector_size: 100, epochs: 100 --> R-squared: 0.318\n",
      "Time elapsed: 12 seconds\n",
      "vector_size: 100, epochs: 200 --> R-squared: 0.320\n",
      "Time elapsed: 25 seconds\n"
     ]
    }
   ],
   "source": [
    "# in case the process gets interrupted, it would be nice to keep some results\n",
    "import logging\n",
    "logging.basicConfig(level=logging.INFO,\n",
    "                    filename='bin/hp_d2v.log',\n",
    "                    format='%(asctime)s -- %(message)s')\n",
    "\n",
    "param_grid = {\n",
    "    'vector_size': [50, 100, 200],\n",
    "    'epochs': [50, 100, 200, 400, 600, 800, 1000, 1200]\n",
    "}\n",
    "\n",
    "logging.info('New Hyperparameter Search\\n%s', param_grid)\n",
    "\n",
    "cartesian_product = [dict(zip(param_grid.keys(), values)) for \n",
    "                     values in product(*param_grid.values())]\n",
    "\n",
    "param_results = []\n",
    "for i, params in enumerate(cartesian_product):\n",
    "    start = time.time()\n",
    "    model = build_model(**params)\n",
    "    time_elapsed = time.time() - start\n",
    "    score = run_tests(model, valid)\n",
    "    print(', '.join([f'{k}: {v}' for k, v in params.items()]), end=' ')\n",
    "    print(f'--> R-squared: {score:.3f}')\n",
    "    print(f'Time elapsed: {time_elapsed:.0f} seconds')\n",
    "\n",
    "    params['trial'] = i\n",
    "    params['score'] = score\n",
    "    params['seconds'] = time_elapsed\n",
    "    logging.info('Results\\n%s', params)\n",
    "    param_results.append(params)\n",
    "    \n",
    "results_df = pd.DataFrame.from_records(param_results, index='trial')\n",
    "results_df.to_csv('bin/d2v_gridsearch.csv')"
   ]
  },
  {
   "cell_type": "code",
   "execution_count": null,
   "metadata": {
    "colab": {
     "base_uri": "https://localhost:8080/",
     "height": 312
    },
    "id": "dyC_QaLGZ-e5",
    "outputId": "6fca1a6f-24dd-4e8d-9440-2490fac7924b"
   },
   "outputs": [
    {
     "data": {
      "text/plain": [
       "Text(0.5, 0, 'Number of Epochs')"
      ]
     },
     "execution_count": 2,
     "metadata": {},
     "output_type": "execute_result"
    },
    {
     "data": {
      "image/png": "[encoded data removed]",
      "text/plain": [
       "<Figure size 432x288 with 1 Axes>"
      ]
     },
     "metadata": {
      "needs_background": "light"
     },
     "output_type": "display_data"
    }
   ],
   "source": [
    "results_df = pd.read_csv('bin/d2v_gridsearch.csv')\n",
    "ax = sns.lineplot(data=results_df, x='epochs', y='score', hue='vector_size')\n",
    "ax.set_title('Results of Doc2vec Parameter Grid Search')\n",
    "ax.set_ylabel('R Squared')\n",
    "ax.set_xlabel('Number of Epochs')"
   ]
  },
  {
   "cell_type": "markdown",
   "metadata": {},
   "source": [
    "## Test Time\n",
    "\n",
    "Now, we can use our best hyperparameters and evaluate the model on our test set."
   ]
  },
  {
   "cell_type": "code",
   "execution_count": null,
   "metadata": {
    "colab": {
     "base_uri": "https://localhost:8080/"
    },
    "id": "Km-zV0CAmuTu",
    "outputId": "47e7dd9d-4e57-46cb-f7a1-be8b390e00b6"
   },
   "outputs": [
    {
     "name": "stderr",
     "output_type": "stream",
     "text": [
      "100%|██████████| 520/520 [00:01<00:00, 499.52it/s]\n",
      "100%|██████████| 520/520 [00:34<00:00, 14.93it/s]\n"
     ]
    },
    {
     "name": "stdout",
     "output_type": "stream",
     "text": [
      "0.29782148359874094\n"
     ]
    }
   ],
   "source": [
    "model = build_model(tagged_data,\n",
    "                    vector_size=100,\n",
    "                    epochs=200)\n",
    "score = run_tests(model, test)\n",
    "print(score)"
   ]
  },
  {
   "cell_type": "code",
   "execution_count": null,
   "metadata": {
    "id": "j_0r6FTxGHEs"
   },
   "outputs": [],
   "source": [
    "outname = 'bin/smj_test_docvecs.csv'\n",
    "\n",
    "outdf = (test.\n",
    "         rename(columns={'Prompt': 'prompt', 'Participant': 'id'})\n",
    "         [['Filename', 'id', 'prompt', 'VST']].\n",
    "         reset_index(drop=True)\n",
    ")\n",
    "outdf = pd.concat([outdf, pd.DataFrame(dv)], axis='columns')\n",
    "outdf.to_csv(outname, index=False)"
   ]
  },
  {
   "cell_type": "code",
   "execution_count": null,
   "metadata": {
    "id": "4lJm8xtWWN6D"
   },
   "outputs": [],
   "source": [
    "def inspect_features(df, feature_col_name, kth=5):\n",
    "    values = outdf[feature_col_name].values.flatten()\n",
    "    sorted = np.argsort(values)\n",
    "    ind_top_values = sorted[-kth:] if kth > 0 else sorted[:-kth]\n",
    "    res = pd.concat([df.loc[ind_top_values][['VST', 'text']],\n",
    "                     outdf[feature_col_name].loc[ind_top_values]],\n",
    "                     axis='columns')\n",
    "    for ind, row in res.iterrows():\n",
    "        print(f'{ind} scored {row.VST} with \\n{row.text}')\n",
    "    \n",
    "corrs = outdf.corr()[['VST']][1:].sort_index()\n",
    "min = corrs.idxmin()\n",
    "max = corrs.idxmax()\n",
    "inspect_features(df, max, kth=10)\n",
    "inspect_features(df, min, kth=-10)"
   ]
  }
 ],
 "metadata": {
  "colab": {
   "background_execution": "on",
   "collapsed_sections": [],
   "include_colab_link": true,
   "name": "ICNALE_lexical_doc2vec.ipynb",
   "provenance": []
  },
  "kernelspec": {
   "display_name": "Python 3 (ipykernel)",
   "language": "python",
   "name": "python3"
  },
  "language_info": {
   "codemirror_mode": {
    "name": "ipython",
    "version": 3
   },
   "file_extension": ".py",
   "mimetype": "text/x-python",
   "name": "python",
   "nbconvert_exporter": "python",
   "pygments_lexer": "ipython3",
   "version": "3.10.5"
  }
 },
 "nbformat": 4,
 "nbformat_minor": 4
}
